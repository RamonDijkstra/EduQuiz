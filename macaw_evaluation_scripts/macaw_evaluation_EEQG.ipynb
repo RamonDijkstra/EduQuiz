{
 "cells": [
  {
   "cell_type": "code",
   "execution_count": 1,
   "id": "8ced4de7",
   "metadata": {},
   "outputs": [],
   "source": [
    "import datasets\n",
    "import json\n",
    "import os"
   ]
  },
  {
   "cell_type": "code",
   "execution_count": 2,
   "id": "76867e37",
   "metadata": {},
   "outputs": [],
   "source": [
    "# Change these variables to perform evalution for you task\n",
    "generated_path = os.path.abspath(os.getcwd()).split('macaw_evaluation_scripts')[0] + 'generated_data_macaw/EEQG/generated_quiz.json'"
   ]
  },
  {
   "cell_type": "code",
   "execution_count": 3,
   "id": "70b66793",
   "metadata": {},
   "outputs": [],
   "source": [
    "generated_data = []\n",
    "# Get the generated completions\n",
    "with open(generated_path) as f:\n",
    "    generated = json.load(f)\n",
    "\n",
    "for key in generated:\n",
    "    generated_data.append(generated[key])"
   ]
  },
  {
   "cell_type": "code",
   "execution_count": 4,
   "id": "ee2abaf7",
   "metadata": {},
   "outputs": [
    {
     "name": "stdout",
     "output_type": "stream",
     "text": [
      "135\n"
     ]
    }
   ],
   "source": [
    "amount_of_quizzes = 0\n",
    "predictions = []\n",
    "\n",
    "for key in generated:\n",
    "    quiz = generated[key][0]\n",
    "    if quiz.count(\"$question$\") == 1 and quiz.count(\"$answer$\") == 1 and quiz.count(\"$mcoptions$\") == 1:\n",
    "        amount_of_quizzes += 1\n",
    "        predictions.append(quiz)\n",
    "        \n",
    "print(amount_of_quizzes)"
   ]
  },
  {
   "cell_type": "code",
   "execution_count": 5,
   "id": "331f30af",
   "metadata": {},
   "outputs": [],
   "source": [
    "# Create result files\n",
    "\n",
    "with open(os.path.abspath(os.getcwd()).split('macaw_evaluation_scripts')[0] + 'generated_data_macaw/EEQG/' + 'automatic_evaluation_EEQG.txt', 'w') as f:\n",
    "    f.write(\"Percentage of generated quizzes: \" + str(round(amount_of_quizzes / len(generated_data) * 100, 2)))\n",
    "    f.write(\"%\")"
   ]
  }
 ],
 "metadata": {
  "kernelspec": {
   "display_name": "test",
   "language": "python",
   "name": "test"
  },
  "language_info": {
   "codemirror_mode": {
    "name": "ipython",
    "version": 3
   },
   "file_extension": ".py",
   "mimetype": "text/x-python",
   "name": "python",
   "nbconvert_exporter": "python",
   "pygments_lexer": "ipython3",
   "version": "3.9.7"
  }
 },
 "nbformat": 4,
 "nbformat_minor": 5
}
